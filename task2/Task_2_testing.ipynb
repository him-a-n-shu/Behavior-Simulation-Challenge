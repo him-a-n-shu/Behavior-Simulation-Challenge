{
  "nbformat": 4,
  "nbformat_minor": 0,
  "metadata": {
    "colab": {
      "provenance": []
    },
    "kernelspec": {
      "name": "python3",
      "display_name": "Python 3"
    },
    "language_info": {
      "name": "python"
    }
  },
  "cells": [
    {
      "cell_type": "code",
      "source": [
        "import warnings\n",
        "\n",
        "# Ignore all warnings\n",
        "warnings.filterwarnings(\"ignore\")"
      ],
      "metadata": {
        "id": "slqx7yh6AJmW"
      },
      "execution_count": 1,
      "outputs": []
    },
    {
      "cell_type": "code",
      "execution_count": 2,
      "metadata": {
        "id": "jJvv_IW1YCad"
      },
      "outputs": [],
      "source": [
        "import pandas as pd"
      ]
    },
    {
      "cell_type": "code",
      "source": [
        "test = pd.read_csv('prediction_content_0_to_1000.csv')"
      ],
      "metadata": {
        "id": "FZaC6ydRYbIC"
      },
      "execution_count": 3,
      "outputs": []
    },
    {
      "cell_type": "code",
      "source": [
        "test.head()"
      ],
      "metadata": {
        "colab": {
          "base_uri": "https://localhost:8080/",
          "height": 206
        },
        "id": "Kzr9zWwvZlkH",
        "outputId": "9cce72ee-eeff-4865-b421-f2e9f3ab5609"
      },
      "execution_count": 4,
      "outputs": [
        {
          "output_type": "execute_result",
          "data": {
            "text/plain": [
              "                                             content  \\\n",
              "0  Spend your weekend morning with a Ham, Egg, an...   \n",
              "1  Watch rapper <mention> freestyle for over an H...   \n",
              "2  Canadian Armenian community demands ban on mil...   \n",
              "3  1st in Europe to be devastated by COVID-19, It...   \n",
              "4  Congratulations to Pauletha Butts of <mention>...   \n",
              "\n",
              "                                          prediction  \n",
              "0  Enjoy a delicious bite of your new Tim Hortons...  \n",
              "1  #JHawk takes over the stage at <mention> in Mi...  \n",
              "2  The RCMP will begin training military in Alber...  \n",
              "3  So nice to have an excuse to get a bit of a br...  \n",
              "4  Congratulations to <mention> on being named Go...  "
            ],
            "text/html": [
              "\n",
              "  <div id=\"df-f41e917a-e666-4c61-907e-63583c5de45e\" class=\"colab-df-container\">\n",
              "    <div>\n",
              "<style scoped>\n",
              "    .dataframe tbody tr th:only-of-type {\n",
              "        vertical-align: middle;\n",
              "    }\n",
              "\n",
              "    .dataframe tbody tr th {\n",
              "        vertical-align: top;\n",
              "    }\n",
              "\n",
              "    .dataframe thead th {\n",
              "        text-align: right;\n",
              "    }\n",
              "</style>\n",
              "<table border=\"1\" class=\"dataframe\">\n",
              "  <thead>\n",
              "    <tr style=\"text-align: right;\">\n",
              "      <th></th>\n",
              "      <th>content</th>\n",
              "      <th>prediction</th>\n",
              "    </tr>\n",
              "  </thead>\n",
              "  <tbody>\n",
              "    <tr>\n",
              "      <th>0</th>\n",
              "      <td>Spend your weekend morning with a Ham, Egg, an...</td>\n",
              "      <td>Enjoy a delicious bite of your new Tim Hortons...</td>\n",
              "    </tr>\n",
              "    <tr>\n",
              "      <th>1</th>\n",
              "      <td>Watch rapper &lt;mention&gt; freestyle for over an H...</td>\n",
              "      <td>#JHawk takes over the stage at &lt;mention&gt; in Mi...</td>\n",
              "    </tr>\n",
              "    <tr>\n",
              "      <th>2</th>\n",
              "      <td>Canadian Armenian community demands ban on mil...</td>\n",
              "      <td>The RCMP will begin training military in Alber...</td>\n",
              "    </tr>\n",
              "    <tr>\n",
              "      <th>3</th>\n",
              "      <td>1st in Europe to be devastated by COVID-19, It...</td>\n",
              "      <td>So nice to have an excuse to get a bit of a br...</td>\n",
              "    </tr>\n",
              "    <tr>\n",
              "      <th>4</th>\n",
              "      <td>Congratulations to Pauletha Butts of &lt;mention&gt;...</td>\n",
              "      <td>Congratulations to &lt;mention&gt; on being named Go...</td>\n",
              "    </tr>\n",
              "  </tbody>\n",
              "</table>\n",
              "</div>\n",
              "    <div class=\"colab-df-buttons\">\n",
              "\n",
              "  <div class=\"colab-df-container\">\n",
              "    <button class=\"colab-df-convert\" onclick=\"convertToInteractive('df-f41e917a-e666-4c61-907e-63583c5de45e')\"\n",
              "            title=\"Convert this dataframe to an interactive table.\"\n",
              "            style=\"display:none;\">\n",
              "\n",
              "  <svg xmlns=\"http://www.w3.org/2000/svg\" height=\"24px\" viewBox=\"0 -960 960 960\">\n",
              "    <path d=\"M120-120v-720h720v720H120Zm60-500h600v-160H180v160Zm220 220h160v-160H400v160Zm0 220h160v-160H400v160ZM180-400h160v-160H180v160Zm440 0h160v-160H620v160ZM180-180h160v-160H180v160Zm440 0h160v-160H620v160Z\"/>\n",
              "  </svg>\n",
              "    </button>\n",
              "\n",
              "  <style>\n",
              "    .colab-df-container {\n",
              "      display:flex;\n",
              "      gap: 12px;\n",
              "    }\n",
              "\n",
              "    .colab-df-convert {\n",
              "      background-color: #E8F0FE;\n",
              "      border: none;\n",
              "      border-radius: 50%;\n",
              "      cursor: pointer;\n",
              "      display: none;\n",
              "      fill: #1967D2;\n",
              "      height: 32px;\n",
              "      padding: 0 0 0 0;\n",
              "      width: 32px;\n",
              "    }\n",
              "\n",
              "    .colab-df-convert:hover {\n",
              "      background-color: #E2EBFA;\n",
              "      box-shadow: 0px 1px 2px rgba(60, 64, 67, 0.3), 0px 1px 3px 1px rgba(60, 64, 67, 0.15);\n",
              "      fill: #174EA6;\n",
              "    }\n",
              "\n",
              "    .colab-df-buttons div {\n",
              "      margin-bottom: 4px;\n",
              "    }\n",
              "\n",
              "    [theme=dark] .colab-df-convert {\n",
              "      background-color: #3B4455;\n",
              "      fill: #D2E3FC;\n",
              "    }\n",
              "\n",
              "    [theme=dark] .colab-df-convert:hover {\n",
              "      background-color: #434B5C;\n",
              "      box-shadow: 0px 1px 3px 1px rgba(0, 0, 0, 0.15);\n",
              "      filter: drop-shadow(0px 1px 2px rgba(0, 0, 0, 0.3));\n",
              "      fill: #FFFFFF;\n",
              "    }\n",
              "  </style>\n",
              "\n",
              "    <script>\n",
              "      const buttonEl =\n",
              "        document.querySelector('#df-f41e917a-e666-4c61-907e-63583c5de45e button.colab-df-convert');\n",
              "      buttonEl.style.display =\n",
              "        google.colab.kernel.accessAllowed ? 'block' : 'none';\n",
              "\n",
              "      async function convertToInteractive(key) {\n",
              "        const element = document.querySelector('#df-f41e917a-e666-4c61-907e-63583c5de45e');\n",
              "        const dataTable =\n",
              "          await google.colab.kernel.invokeFunction('convertToInteractive',\n",
              "                                                    [key], {});\n",
              "        if (!dataTable) return;\n",
              "\n",
              "        const docLinkHtml = 'Like what you see? Visit the ' +\n",
              "          '<a target=\"_blank\" href=https://colab.research.google.com/notebooks/data_table.ipynb>data table notebook</a>'\n",
              "          + ' to learn more about interactive tables.';\n",
              "        element.innerHTML = '';\n",
              "        dataTable['output_type'] = 'display_data';\n",
              "        await google.colab.output.renderOutput(dataTable, element);\n",
              "        const docLink = document.createElement('div');\n",
              "        docLink.innerHTML = docLinkHtml;\n",
              "        element.appendChild(docLink);\n",
              "      }\n",
              "    </script>\n",
              "  </div>\n",
              "\n",
              "\n",
              "<div id=\"df-21fe7b97-bdaa-4746-8a0e-326e2d171636\">\n",
              "  <button class=\"colab-df-quickchart\" onclick=\"quickchart('df-21fe7b97-bdaa-4746-8a0e-326e2d171636')\"\n",
              "            title=\"Suggest charts\"\n",
              "            style=\"display:none;\">\n",
              "\n",
              "<svg xmlns=\"http://www.w3.org/2000/svg\" height=\"24px\"viewBox=\"0 0 24 24\"\n",
              "     width=\"24px\">\n",
              "    <g>\n",
              "        <path d=\"M19 3H5c-1.1 0-2 .9-2 2v14c0 1.1.9 2 2 2h14c1.1 0 2-.9 2-2V5c0-1.1-.9-2-2-2zM9 17H7v-7h2v7zm4 0h-2V7h2v10zm4 0h-2v-4h2v4z\"/>\n",
              "    </g>\n",
              "</svg>\n",
              "  </button>\n",
              "\n",
              "<style>\n",
              "  .colab-df-quickchart {\n",
              "      --bg-color: #E8F0FE;\n",
              "      --fill-color: #1967D2;\n",
              "      --hover-bg-color: #E2EBFA;\n",
              "      --hover-fill-color: #174EA6;\n",
              "      --disabled-fill-color: #AAA;\n",
              "      --disabled-bg-color: #DDD;\n",
              "  }\n",
              "\n",
              "  [theme=dark] .colab-df-quickchart {\n",
              "      --bg-color: #3B4455;\n",
              "      --fill-color: #D2E3FC;\n",
              "      --hover-bg-color: #434B5C;\n",
              "      --hover-fill-color: #FFFFFF;\n",
              "      --disabled-bg-color: #3B4455;\n",
              "      --disabled-fill-color: #666;\n",
              "  }\n",
              "\n",
              "  .colab-df-quickchart {\n",
              "    background-color: var(--bg-color);\n",
              "    border: none;\n",
              "    border-radius: 50%;\n",
              "    cursor: pointer;\n",
              "    display: none;\n",
              "    fill: var(--fill-color);\n",
              "    height: 32px;\n",
              "    padding: 0;\n",
              "    width: 32px;\n",
              "  }\n",
              "\n",
              "  .colab-df-quickchart:hover {\n",
              "    background-color: var(--hover-bg-color);\n",
              "    box-shadow: 0 1px 2px rgba(60, 64, 67, 0.3), 0 1px 3px 1px rgba(60, 64, 67, 0.15);\n",
              "    fill: var(--button-hover-fill-color);\n",
              "  }\n",
              "\n",
              "  .colab-df-quickchart-complete:disabled,\n",
              "  .colab-df-quickchart-complete:disabled:hover {\n",
              "    background-color: var(--disabled-bg-color);\n",
              "    fill: var(--disabled-fill-color);\n",
              "    box-shadow: none;\n",
              "  }\n",
              "\n",
              "  .colab-df-spinner {\n",
              "    border: 2px solid var(--fill-color);\n",
              "    border-color: transparent;\n",
              "    border-bottom-color: var(--fill-color);\n",
              "    animation:\n",
              "      spin 1s steps(1) infinite;\n",
              "  }\n",
              "\n",
              "  @keyframes spin {\n",
              "    0% {\n",
              "      border-color: transparent;\n",
              "      border-bottom-color: var(--fill-color);\n",
              "      border-left-color: var(--fill-color);\n",
              "    }\n",
              "    20% {\n",
              "      border-color: transparent;\n",
              "      border-left-color: var(--fill-color);\n",
              "      border-top-color: var(--fill-color);\n",
              "    }\n",
              "    30% {\n",
              "      border-color: transparent;\n",
              "      border-left-color: var(--fill-color);\n",
              "      border-top-color: var(--fill-color);\n",
              "      border-right-color: var(--fill-color);\n",
              "    }\n",
              "    40% {\n",
              "      border-color: transparent;\n",
              "      border-right-color: var(--fill-color);\n",
              "      border-top-color: var(--fill-color);\n",
              "    }\n",
              "    60% {\n",
              "      border-color: transparent;\n",
              "      border-right-color: var(--fill-color);\n",
              "    }\n",
              "    80% {\n",
              "      border-color: transparent;\n",
              "      border-right-color: var(--fill-color);\n",
              "      border-bottom-color: var(--fill-color);\n",
              "    }\n",
              "    90% {\n",
              "      border-color: transparent;\n",
              "      border-bottom-color: var(--fill-color);\n",
              "    }\n",
              "  }\n",
              "</style>\n",
              "\n",
              "  <script>\n",
              "    async function quickchart(key) {\n",
              "      const quickchartButtonEl =\n",
              "        document.querySelector('#' + key + ' button');\n",
              "      quickchartButtonEl.disabled = true;  // To prevent multiple clicks.\n",
              "      quickchartButtonEl.classList.add('colab-df-spinner');\n",
              "      try {\n",
              "        const charts = await google.colab.kernel.invokeFunction(\n",
              "            'suggestCharts', [key], {});\n",
              "      } catch (error) {\n",
              "        console.error('Error during call to suggestCharts:', error);\n",
              "      }\n",
              "      quickchartButtonEl.classList.remove('colab-df-spinner');\n",
              "      quickchartButtonEl.classList.add('colab-df-quickchart-complete');\n",
              "    }\n",
              "    (() => {\n",
              "      let quickchartButtonEl =\n",
              "        document.querySelector('#df-21fe7b97-bdaa-4746-8a0e-326e2d171636 button');\n",
              "      quickchartButtonEl.style.display =\n",
              "        google.colab.kernel.accessAllowed ? 'block' : 'none';\n",
              "    })();\n",
              "  </script>\n",
              "</div>\n",
              "\n",
              "    </div>\n",
              "  </div>\n"
            ],
            "application/vnd.google.colaboratory.intrinsic+json": {
              "type": "dataframe",
              "variable_name": "test",
              "summary": "{\n  \"name\": \"test\",\n  \"rows\": 1000,\n  \"fields\": [\n    {\n      \"column\": \"content\",\n      \"properties\": {\n        \"dtype\": \"string\",\n        \"num_unique_values\": 999,\n        \"samples\": [\n          \"Who wore it better? \\ud83d\\ude42\\ud83d\\ude01\\ud83d\\ude43 Shoutout to the apparel team at Store 2485 in Ponderay, ID, for giving us \\ud83d\\udd90 reasons to smile \\ud83d\\udc99\\ud83e\\udd17 <hyperlink>\",\n          \"Massive swarms of grasshoppers have descended upon Las Vegas this week <hyperlink> <hyperlink>\",\n          \"<mention> Jake.. please read the entire blog. <hyperlink>\"\n        ],\n        \"semantic_type\": \"\",\n        \"description\": \"\"\n      }\n    },\n    {\n      \"column\": \"prediction\",\n      \"properties\": {\n        \"dtype\": \"string\",\n        \"num_unique_values\": 995,\n        \"samples\": [\n          \"How do you make your businesses more secure? Learn how we\\u2019re improving security with the help of Azure Edge and Azure Edge. <hyperlink> <hyperlink>\",\n          \"The #Steelers just got a huge fan in <mention>.. <mention> &amp; <mention> have done a great job at putting this in the books.. #PatMcAfeeShowLIVE <hyper\",\n          \"As a district, Metroschools can\\u2019t wait for your students to get to know you more! We're thankful to all the students in the <mention> community for participating in our #HAPPYHOUR\"\n        ],\n        \"semantic_type\": \"\",\n        \"description\": \"\"\n      }\n    }\n  ]\n}"
            }
          },
          "metadata": {},
          "execution_count": 4
        }
      ]
    },
    {
      "cell_type": "code",
      "source": [
        "!pip install pycocoevalcap"
      ],
      "metadata": {
        "id": "br-NCfua84og"
      },
      "execution_count": null,
      "outputs": []
    },
    {
      "cell_type": "code",
      "source": [
        "# Install the pycocoevalcap library if not already installed\n",
        "# !pip install git+https://github.com/salaniz/pycocoevalcap\n",
        "\n",
        "import pandas as pd\n",
        "from pycocoevalcap.cider.cider import Cider\n",
        "\n",
        "# Convert columns to the required format for CIDEr calculation\n",
        "gts = {i: [test.iloc[i]['content']] for i in range(len(test))}\n",
        "res = {i: [test.iloc[i]['prediction']] for i in range(len(test))}\n",
        "\n",
        "# Calculate CIDEr score\n",
        "cider_scorer = Cider()\n",
        "cider_score, _ = cider_scorer.compute_score(gts, res)\n",
        "\n",
        "print(\"CIDEr Score:\", cider_score)\n"
      ],
      "metadata": {
        "colab": {
          "base_uri": "https://localhost:8080/"
        },
        "id": "TNCma9-MYy6R",
        "outputId": "68a57bb2-6ed8-4ccf-9568-33f38121596c"
      },
      "execution_count": 7,
      "outputs": [
        {
          "output_type": "stream",
          "name": "stdout",
          "text": [
            "CIDEr Score: 0.07244995714104505\n"
          ]
        }
      ]
    },
    {
      "cell_type": "code",
      "source": [
        "import pandas as pd\n",
        "from pycocoevalcap.bleu.bleu import Bleu\n",
        "\n",
        "# Step 1: Load your dataset\n",
        "# df = pd.read_csv('your_dataset.csv')  # Adjust the file name as needed\n",
        "\n",
        "# Step 2: Prepare your data\n",
        "gts = {}\n",
        "res = {}\n",
        "\n",
        "# Populate gts and res dictionaries\n",
        "for index, row in test.iterrows():\n",
        "    img_id = f'image{index + 1}'  # Creating a unique ID for each row\n",
        "    gts[img_id] = [row['content']]  # Wrap content in a list for references\n",
        "    res[img_id] = [row['prediction']]  # Predictions remain as a list\n",
        "\n",
        "# Step 3: Create the BLEU scorer and compute the score\n",
        "bleu_scorer = Bleu(n=4)  # You can adjust n for n-gram BLEU score\n",
        "\n",
        "# Compute the BLEU score\n",
        "score, scores = bleu_scorer.compute_score(gts, res)\n",
        "\n",
        "# Print the results\n",
        "for i in range(len(score)):\n",
        "    print(f\"BLEU-{i+1} : \", score[i])\n",
        "\n",
        "# print(\"BLEU-4 : \", score[3]\n",
        "# print(f\"Detailed BLEU Scores: {scores}\")\n"
      ],
      "metadata": {
        "colab": {
          "base_uri": "https://localhost:8080/"
        },
        "id": "ljMqoB5taFhy",
        "outputId": "66ab80f4-60db-4f6c-acdf-e57d1f34a6b0"
      },
      "execution_count": 18,
      "outputs": [
        {
          "output_type": "stream",
          "name": "stdout",
          "text": [
            "{'testlen': 19231, 'reflen': 23010, 'guess': [19231, 18231, 17232, 16236], 'correct': [3344, 536, 64, 23]}\n",
            "ratio: 0.8357670578009198\n",
            "BLEU-1 :  0.14286409188567137\n",
            "BLEU-2 :  0.05874461120400952\n",
            "BLEU-3 :  0.02191861019940509\n",
            "BLEU-4 :  0.010521717309379819\n"
          ]
        }
      ]
    },
    {
      "cell_type": "code",
      "source": [
        "from pycocoevalcap.rouge.rouge import Rouge"
      ],
      "metadata": {
        "id": "EV-u3gtZCcmh"
      },
      "execution_count": 9,
      "outputs": []
    },
    {
      "cell_type": "code",
      "source": [
        "import pandas as pd\n",
        "import numpy as np\n",
        "\n",
        "# Your existing ROUGE code (class definition) should be here\n",
        "\n",
        "# Example DataFrame setup\n",
        "data = {\n",
        "    'content': test['content'].tolist(),\n",
        "    'prediction': test['prediction'].tolist()\n",
        "}\n",
        "\n",
        "df = pd.DataFrame(data)\n",
        "\n",
        "# Create an instance of the Rouge class\n",
        "rouge = Rouge()\n",
        "\n",
        "# Initialize lists to store scores\n",
        "rouge_scores = []\n",
        "\n",
        "# Compute ROUGE-L scores for each row in the DataFrame\n",
        "for index, row in df.iterrows():\n",
        "    # Prepare the ground truth and prediction\n",
        "    gts = {str(index): [row['content']]}  # Reference sentences as a list\n",
        "    res = {str(index): [row['prediction']]}  # Candidate sentences as a list\n",
        "\n",
        "    # Calculate the ROUGE-L score\n",
        "    avg_score, _ = rouge.compute_score(gts, res)\n",
        "    rouge_scores.append(avg_score)\n",
        "\n",
        "# Add ROUGE-L scores to the DataFrame\n",
        "df['rouge_L'] = rouge_scores\n",
        "\n",
        "# Calculate the average ROUGE-L score across all predictions\n",
        "average_rouge_L = np.mean(rouge_scores)\n",
        "print(\"Average ROUGE-L Score:\", average_rouge_L)\n"
      ],
      "metadata": {
        "colab": {
          "base_uri": "https://localhost:8080/"
        },
        "id": "rGnuokHoDE-a",
        "outputId": "e1b5e624-5e98-4c8d-899f-dff7eb704a7b"
      },
      "execution_count": 15,
      "outputs": [
        {
          "output_type": "stream",
          "name": "stdout",
          "text": [
            "Average ROUGE-L Score: 0.14401805653063832\n"
          ]
        }
      ]
    },
    {
      "cell_type": "code",
      "source": [],
      "metadata": {
        "id": "kIPJ8bGWDRc6"
      },
      "execution_count": null,
      "outputs": []
    }
  ]
}